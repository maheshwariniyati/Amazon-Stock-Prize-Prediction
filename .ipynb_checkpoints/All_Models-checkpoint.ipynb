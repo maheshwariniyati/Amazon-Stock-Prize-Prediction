{
 "cells": [
  {
   "cell_type": "code",
   "execution_count": 65,
   "metadata": {},
   "outputs": [],
   "source": [
    "#importing all the necessary libraries\n",
    "import pandas as pd\n",
    "import numpy as np\n",
    "import matplotlib.pyplot as plt\n",
    "%matplotlib inline\n",
    "# from pandas_datareader import data as wb\n",
    "from scipy import stats\n",
    "import warnings\n",
    "from datetime import datetime\n",
    "from scipy.optimize import minimize\n",
    "import scipy.special as ss\n",
    "warnings.filterwarnings(\"ignore\")"
   ]
  },
  {
   "cell_type": "code",
   "execution_count": 66,
   "metadata": {},
   "outputs": [],
   "source": [
    "df=pd.read_csv(\"Merged_data.csv\")"
   ]
  },
  {
   "cell_type": "code",
   "execution_count": 67,
   "metadata": {},
   "outputs": [
    {
     "data": {
      "text/html": [
       "<div>\n",
       "<style scoped>\n",
       "    .dataframe tbody tr th:only-of-type {\n",
       "        vertical-align: middle;\n",
       "    }\n",
       "\n",
       "    .dataframe tbody tr th {\n",
       "        vertical-align: top;\n",
       "    }\n",
       "\n",
       "    .dataframe thead th {\n",
       "        text-align: right;\n",
       "    }\n",
       "</style>\n",
       "<table border=\"1\" class=\"dataframe\">\n",
       "  <thead>\n",
       "    <tr style=\"text-align: right;\">\n",
       "      <th></th>\n",
       "      <th>Date</th>\n",
       "      <th>Open</th>\n",
       "      <th>Close</th>\n",
       "      <th>High</th>\n",
       "      <th>Low</th>\n",
       "      <th>Volume</th>\n",
       "      <th>ADS_Index</th>\n",
       "      <th>Mkt-RF</th>\n",
       "      <th>SMB</th>\n",
       "      <th>HML</th>\n",
       "      <th>RF</th>\n",
       "      <th>Returns</th>\n",
       "      <th>SP500</th>\n",
       "      <th>Open_Close</th>\n",
       "      <th>High_Low</th>\n",
       "      <th>HLOC</th>\n",
       "      <th>EWM_OpenClose</th>\n",
       "    </tr>\n",
       "  </thead>\n",
       "  <tbody>\n",
       "    <tr>\n",
       "      <th>664</th>\n",
       "      <td>2018-08-24</td>\n",
       "      <td>1912.00</td>\n",
       "      <td>1905.00</td>\n",
       "      <td>1916.01</td>\n",
       "      <td>1902.54</td>\n",
       "      <td>16706</td>\n",
       "      <td>0.335919</td>\n",
       "      <td>0.62</td>\n",
       "      <td>-0.05</td>\n",
       "      <td>-0.51</td>\n",
       "      <td>0.007</td>\n",
       "      <td>-0.001050</td>\n",
       "      <td>2874.69</td>\n",
       "      <td>1908.500</td>\n",
       "      <td>1909.275</td>\n",
       "      <td>1908.8875</td>\n",
       "      <td>1898.543330</td>\n",
       "    </tr>\n",
       "    <tr>\n",
       "      <th>665</th>\n",
       "      <td>2018-08-27</td>\n",
       "      <td>1914.00</td>\n",
       "      <td>1932.30</td>\n",
       "      <td>1933.00</td>\n",
       "      <td>1909.28</td>\n",
       "      <td>17780</td>\n",
       "      <td>0.299340</td>\n",
       "      <td>0.74</td>\n",
       "      <td>-0.69</td>\n",
       "      <td>-0.12</td>\n",
       "      <td>0.007</td>\n",
       "      <td>0.001308</td>\n",
       "      <td>2896.74</td>\n",
       "      <td>1923.150</td>\n",
       "      <td>1921.140</td>\n",
       "      <td>1922.1450</td>\n",
       "      <td>1906.745553</td>\n",
       "    </tr>\n",
       "    <tr>\n",
       "      <th>666</th>\n",
       "      <td>2018-08-28</td>\n",
       "      <td>1933.00</td>\n",
       "      <td>1935.01</td>\n",
       "      <td>1941.78</td>\n",
       "      <td>1927.68</td>\n",
       "      <td>18557</td>\n",
       "      <td>0.285254</td>\n",
       "      <td>-0.01</td>\n",
       "      <td>-0.12</td>\n",
       "      <td>-0.29</td>\n",
       "      <td>0.007</td>\n",
       "      <td>0.011631</td>\n",
       "      <td>2897.52</td>\n",
       "      <td>1934.005</td>\n",
       "      <td>1934.730</td>\n",
       "      <td>1934.3675</td>\n",
       "      <td>1915.832036</td>\n",
       "    </tr>\n",
       "    <tr>\n",
       "      <th>667</th>\n",
       "      <td>2018-08-29</td>\n",
       "      <td>1945.00</td>\n",
       "      <td>1999.75</td>\n",
       "      <td>2001.85</td>\n",
       "      <td>1937.50</td>\n",
       "      <td>39327</td>\n",
       "      <td>0.270082</td>\n",
       "      <td>0.56</td>\n",
       "      <td>-0.04</td>\n",
       "      <td>-0.59</td>\n",
       "      <td>0.007</td>\n",
       "      <td>0.002663</td>\n",
       "      <td>2914.04</td>\n",
       "      <td>1972.375</td>\n",
       "      <td>1969.675</td>\n",
       "      <td>1971.0250</td>\n",
       "      <td>1934.679690</td>\n",
       "    </tr>\n",
       "    <tr>\n",
       "      <th>668</th>\n",
       "      <td>2018-08-30</td>\n",
       "      <td>2000.12</td>\n",
       "      <td>2002.15</td>\n",
       "      <td>2025.58</td>\n",
       "      <td>1986.90</td>\n",
       "      <td>41585</td>\n",
       "      <td>0.253823</td>\n",
       "      <td>-0.41</td>\n",
       "      <td>0.30</td>\n",
       "      <td>-0.43</td>\n",
       "      <td>0.007</td>\n",
       "      <td>0.033217</td>\n",
       "      <td>2901.13</td>\n",
       "      <td>2001.135</td>\n",
       "      <td>2006.240</td>\n",
       "      <td>2003.6875</td>\n",
       "      <td>1956.831460</td>\n",
       "    </tr>\n",
       "  </tbody>\n",
       "</table>\n",
       "</div>"
      ],
      "text/plain": [
       "           Date    Open    Close      High      Low  Volume  ADS_Index  \\\n",
       "664  2018-08-24  1912.00  1905.00  1916.01  1902.54   16706   0.335919   \n",
       "665  2018-08-27  1914.00  1932.30  1933.00  1909.28   17780   0.299340   \n",
       "666  2018-08-28  1933.00  1935.01  1941.78  1927.68   18557   0.285254   \n",
       "667  2018-08-29  1945.00  1999.75  2001.85  1937.50   39327   0.270082   \n",
       "668  2018-08-30  2000.12  2002.15  2025.58  1986.90   41585   0.253823   \n",
       "\n",
       "     Mkt-RF   SMB   HML     RF   Returns    SP500  Open_Close  High_Low  \\\n",
       "664    0.62 -0.05 -0.51  0.007 -0.001050  2874.69    1908.500  1909.275   \n",
       "665    0.74 -0.69 -0.12  0.007  0.001308  2896.74    1923.150  1921.140   \n",
       "666   -0.01 -0.12 -0.29  0.007  0.011631  2897.52    1934.005  1934.730   \n",
       "667    0.56 -0.04 -0.59  0.007  0.002663  2914.04    1972.375  1969.675   \n",
       "668   -0.41  0.30 -0.43  0.007  0.033217  2901.13    2001.135  2006.240   \n",
       "\n",
       "          HLOC  EWM_OpenClose  \n",
       "664  1908.8875    1898.543330  \n",
       "665  1922.1450    1906.745553  \n",
       "666  1934.3675    1915.832036  \n",
       "667  1971.0250    1934.679690  \n",
       "668  2003.6875    1956.831460  "
      ]
     },
     "execution_count": 67,
     "metadata": {},
     "output_type": "execute_result"
    }
   ],
   "source": [
    "df.tail()"
   ]
  },
  {
   "cell_type": "code",
   "execution_count": 68,
   "metadata": {},
   "outputs": [],
   "source": [
    "Y = df[['Open ']].as_matrix()"
   ]
  },
  {
   "cell_type": "markdown",
   "metadata": {},
   "source": [
    "**EMA**\n",
    "\n",
    "An exponential moving average (EMA), also known as an exponentially weighted moving average (EWMA). \n",
    "\n",
    "**Formula**\n",
    "\n",
    "Exponential moving average = [Close - previous EMA] * (2 / n+1) + previous EMA"
   ]
  },
  {
   "cell_type": "code",
   "execution_count": 69,
   "metadata": {},
   "outputs": [],
   "source": [
    "def EMA_train(Y):\n",
    "    T= Y.shape[0]  \n",
    "    X_EMA = df[['EWM_OpenClose']].as_matrix()\n",
    "    X_EMA = np.column_stack([np.ones((T,1)),X_EMA])\n",
    "    N1 = X_EMA.shape        \n",
    "    invXTX = np.linalg.inv(X_EMA.transpose()@X_EMA)\n",
    "    beta_hat = invXTX@X_EMA.transpose()@Y\n",
    "    Y_HAT_EMA = X_EMA@beta_hat\n",
    "    residuals = Y-Y_HAT_EMA\n",
    "    variance = (1/T)*residuals.transpose()@residuals  \n",
    "    std = np.sqrt(variance)\n",
    "    var_cov_beta = variance*invXTX   \n",
    "    std_cov_beta = np.sqrt(T*np.diag(var_cov_beta))\n",
    "    t_stat = (beta_hat.transpose()-0)/std_cov_beta\n",
    "    p_val_t = 1-stats.norm.cdf(t_stat)\n",
    "    MSE = (sum((Y-Y_HAT_EMA)**2))/(len(X_EMA)-len(X_EMA[0]))\n",
    "    var_b = MSE*(np.linalg.inv(np.dot(X_EMA.T,X_EMA)).diagonal())\n",
    "    sd_b = np.sqrt(var_b)\n",
    "    ts_b = beta_hat/ sd_b\n",
    "    p_values =[2*(1-stats.t.cdf(np.abs(i),(len(X_EMA)-1))) for i in ts_b]\n",
    "    f_stat = (beta_hat.transpose()@np.linalg.inv(var_cov_beta)@beta_hat/N1[1])/(residuals.transpose()@residuals/(T-N1[1]))\n",
    "    p_val_f = 1-stats.f.cdf(f_stat, N1[1]-1, len(X_EMA)-N1[1])\n",
    "    R2 = 1-T*variance/(T*np.var(Y))\n",
    "    R2_adj = 1-(1-R2)*(T-1)/(T-N1[1])\n",
    "    return beta_hat,Y_HAT_EMA,Y,t_stat,p_val_t,f_stat,p_val_f,R2,R2_adj"
   ]
  },
  {
   "cell_type": "code",
   "execution_count": 70,
   "metadata": {},
   "outputs": [
    {
     "data": {
      "text/plain": [
       "[<matplotlib.lines.Line2D at 0x1f4eae97780>]"
      ]
     },
     "execution_count": 70,
     "metadata": {},
     "output_type": "execute_result"
    },
    {
     "data": {
      "image/png": "[encoded data removed]",
      "text/plain": [
       "<Figure size 432x288 with 1 Axes>"
      ]
     },
     "metadata": {
      "needs_background": "light"
     },
     "output_type": "display_data"
    }
   ],
   "source": [
    "beta_hat,Y_HAT_EMA,Y,t_stat,p_val_t,f_stat,p_val_f,R2,R2_adj= EMA_train(Y)\n",
    "plt.plot(Y)\n",
    "plt.plot(Y_HAT_EMA)"
   ]
  },
  {
   "cell_type": "code",
   "execution_count": 71,
   "metadata": {
    "scrolled": true
   },
   "outputs": [],
   "source": [
    "RMSE_EMA=np.sqrt(np.mean((Y - Y_HAT_EMA)**2))"
   ]
  },
  {
   "cell_type": "code",
   "execution_count": 72,
   "metadata": {},
   "outputs": [
    {
     "data": {
      "text/plain": [
       "12.735575701307704"
      ]
     },
     "execution_count": 72,
     "metadata": {},
     "output_type": "execute_result"
    }
   ],
   "source": [
    "RMSE_EMA"
   ]
  },
  {
   "cell_type": "markdown",
   "metadata": {},
   "source": [
    "**Moving Average of High low and close with ads index**\n",
    "\n",
    "The moving-average model specifies that the output variable depends linearly on the current and various past values of a stochastic (imperfectly predictable) term.\n",
    "\n",
    "\n",
    "The Simple Moving Average formula is a very basic arithmetic mean over the number of periods.\n",
    "\n",
    "Simple moving average = (P1 + P2 + P3 + P4 + ... + Pn) / n."
   ]
  },
  {
   "cell_type": "code",
   "execution_count": 87,
   "metadata": {},
   "outputs": [],
   "source": [
    "def MA_HL(Y):\n",
    "    T=Y.shape[0]\n",
    "    df[\"moving_average_HLC\"] = (df[\"High\"] + df[\"Low\"] + df [\"Close \"]) /3\n",
    "    X =df[['moving_average_HLC','ADS_Index']].as_matrix()\n",
    "    N=X.shape\n",
    "    invXTX=np.linalg.inv(X.transpose()@X)\n",
    "    beta_hat = invXTX@X.transpose()@Y\n",
    "    y_hat = X@beta_hat\n",
    "    residuals = Y-y_hat\n",
    "    variance = (1/T)*residuals.transpose()@residuals  \n",
    "    std = np.sqrt(variance)\n",
    "    var_cov_beta = variance*invXTX   \n",
    "    std_cov_beta = np.sqrt(T*np.diag(var_cov_beta))\n",
    "    t_stat = (beta_hat.transpose()-0)/std_cov_beta\n",
    "    p_val_t = 1-stats.norm.cdf(t_stat)\n",
    "    MSE = (sum((Y-y_hat)**2))/(len(X)-len(X[0]))\n",
    "    var_b = MSE*(np.linalg.inv(np.dot(X.T,X)).diagonal())\n",
    "    sd_b = np.sqrt(var_b)\n",
    "    ts_b = beta_hat/ sd_b\n",
    "    p_values =[2*(1-stats.t.cdf(np.abs(i),(len(X)-1))) for i in ts_b]\n",
    "    f_stat = (beta_hat.transpose()@np.linalg.inv(var_cov_beta)@beta_hat/N[1])/(residuals.transpose()@residuals/(T-N[1]))\n",
    "    p_val_f = 1-stats.f.cdf(f_stat, N[1]-1, len(X)-N[1])\n",
    "    R2 = 1-T*variance/(T*np.var(Y))\n",
    "    R2_adj = 1-(1-R2)*(T-1)/(T-N[1])\n",
    "    return beta_hat, y_hat,Y,t_stat,p_val_t,f_stat,p_val_f,R2,R2_adj"
   ]
  },
  {
   "cell_type": "code",
   "execution_count": 88,
   "metadata": {},
   "outputs": [
    {
     "data": {
      "text/plain": [
       "[<matplotlib.lines.Line2D at 0x1f4eb00e710>]"
      ]
     },
     "execution_count": 88,
     "metadata": {},
     "output_type": "execute_result"
    },
    {
     "data": {
      "image/png": "[encoded data removed]",
      "text/plain": [
       "<Figure size 432x288 with 1 Axes>"
      ]
     },
     "metadata": {
      "needs_background": "light"
     },
     "output_type": "display_data"
    }
   ],
   "source": [
    "beta_hat, y_hat,Y,t_stat,p_val_t,f_stat,p_val_f,R2,R2_adj=MA_HL(Y)\n",
    "plt.plot(Y)\n",
    "plt.plot(y_hat)"
   ]
  },
  {
   "cell_type": "code",
   "execution_count": 89,
   "metadata": {},
   "outputs": [],
   "source": [
    "RMSE_MA=np.sqrt(np.mean((Y - y_hat)**2))"
   ]
  },
  {
   "cell_type": "code",
   "execution_count": 90,
   "metadata": {},
   "outputs": [
    {
     "data": {
      "text/plain": [
       "11.654367973289219"
      ]
     },
     "execution_count": 90,
     "metadata": {},
     "output_type": "execute_result"
    }
   ],
   "source": [
    "RMSE_MA"
   ]
  },
  {
   "cell_type": "markdown",
   "metadata": {},
   "source": [
    "**AR With All Factors**\n",
    "\n",
    "An autoregressive (AR) model predicts future behavior based on past behavior. It’s used for forecasting when there is some correlation between values in a time series and the values that precede and succeed them. You only use past data to model the behavior, hence the name autoregressive (the Greek prefix auto– means “self.” ). The process is basically a linear regression of the data in the current series against one or more past values in the same series.\n"
   ]
  },
  {
   "cell_type": "code",
   "execution_count": 100,
   "metadata": {},
   "outputs": [],
   "source": [
    "def ARF(Y):\n",
    "    X = df[['High','Low','Close ','Mkt-RF','SMB','HML','ADS_Index']].as_matrix()\n",
    "    N = X.shape\n",
    "    T = Y.shape[0]\n",
    "    invXX = np.linalg.inv(X.transpose()@X)\n",
    "    beta_hat = invXX@X.transpose()@Y\n",
    "    Y_HAT = X@beta_hat\n",
    "    residuals = Y -Y_HAT\n",
    "    variance = (1/T)*residuals.transpose()@residuals\n",
    "    std = np.sqrt(variance)\n",
    "    varcov_beta_hat = (variance)*invXX\n",
    "    std_beta_hat = np.sqrt(T*np.diag(varcov_beta_hat))\n",
    "    t_stat=(beta_hat.transpose()-0)/std_beta_hat\n",
    "    p_val_t= 1-stats.norm.cdf(t_stat)\n",
    "    MSE = (sum((Y-Y_HAT)**2))/(len(X)-len(X[0]))\n",
    "    var_b = MSE*(np.linalg.inv(np.dot(X.T,X)).diagonal())\n",
    "    sd_b = np.sqrt(var_b)\n",
    "    ts_b = beta_hat/ sd_b\n",
    "    p_values =[2*(1-stats.t.cdf(np.abs(i),(len(X)-1))) for i in ts_b]\n",
    "    R_square = 1 - (residuals.transpose()@residuals)/(T*np.var(Y))\n",
    "    adj_R_square = 1-(1-R_square)*(T-1)/(T-N[1])\n",
    "    F_stat = (beta_hat.transpose()@np.linalg.inv(varcov_beta_hat)@beta_hat/N[1])/(residuals.transpose()@residuals/(T-N[1]))\n",
    "    p_val_F = 1 - stats.f.cdf(F_stat,N[1]-1,T-N[1])\n",
    "    \n",
    "    print(p_val_t)\n",
    "    return beta_hat, Y_HAT,Y,t_stat,p_val_t,F_stat,p_val_F,R_square,adj_R_square"
   ]
  },
  {
   "cell_type": "code",
   "execution_count": 101,
   "metadata": {},
   "outputs": [
    {
     "name": "stdout",
     "output_type": "stream",
     "text": [
      "[[0.14962332 0.16401167 0.62784234 0.59759957 0.45486614 0.39759955\n",
      "  0.51278131]]\n"
     ]
    },
    {
     "data": {
      "text/plain": [
       "[<matplotlib.lines.Line2D at 0x1f4eb24ceb8>]"
      ]
     },
     "execution_count": 101,
     "metadata": {},
     "output_type": "execute_result"
    },
    {
     "data": {
      "image/png": "[encoded data removed]",
      "text/plain": [
       "<Figure size 432x288 with 1 Axes>"
      ]
     },
     "metadata": {
      "needs_background": "light"
     },
     "output_type": "display_data"
    }
   ],
   "source": [
    "beta_hat, Y_HAT,Y,t_stat,p_val_t,F_stat,p_val_F,R_square,adj_R_square=ARF(Y)\n",
    "plt.plot(Y)\n",
    "plt.plot(Y_HAT)"
   ]
  },
  {
   "cell_type": "code",
   "execution_count": 102,
   "metadata": {},
   "outputs": [],
   "source": [
    "RMSE_ARF=np.sqrt(np.mean((Y - Y_HAT)**2))"
   ]
  },
  {
   "cell_type": "code",
   "execution_count": 103,
   "metadata": {},
   "outputs": [
    {
     "data": {
      "text/plain": [
       "7.874706419242701"
      ]
     },
     "execution_count": 103,
     "metadata": {},
     "output_type": "execute_result"
    }
   ],
   "source": [
    "RMSE_ARF"
   ]
  },
  {
   "cell_type": "markdown",
   "metadata": {},
   "source": [
    "**FAMA FRENCH 5 FACTOR MODEL**"
   ]
  },
  {
   "cell_type": "code",
   "execution_count": 104,
   "metadata": {},
   "outputs": [],
   "source": [
    "def FAMA(Y):\n",
    "    X = df[['Mkt-RF','SMB','HML','HLOC','Close ']].as_matrix()\n",
    "    N = X.shape\n",
    "    T = Y.shape[0]\n",
    "    invXX = np.linalg.inv(X.transpose()@X)\n",
    "    beta_hat = invXX@X.transpose()@Y\n",
    "    Y_HAT = X@beta_hat\n",
    "    residuals = Y -Y_HAT\n",
    "    variance = (1/T)*residuals.transpose()@residuals\n",
    "    std = np.sqrt(variance)\n",
    "    varcov_beta_hat = (variance)*invXX\n",
    "    std_beta_hat = np.sqrt(T*np.diag(varcov_beta_hat))\n",
    "    t_stat=(beta_hat.transpose()-0)/std_beta_hat\n",
    "    p_val_t= 1-stats.norm.cdf(t_stat)\n",
    "    MSE = (sum((Y-Y_HAT)**2))/(len(X)-len(X[0]))\n",
    "    var_b = MSE*(np.linalg.inv(np.dot(X.T,X)).diagonal())\n",
    "    sd_b = np.sqrt(var_b)\n",
    "    ts_b = beta_hat/ sd_b\n",
    "    p_values =[2*(1-stats.t.cdf(np.abs(i),(len(X)-1))) for i in ts_b]\n",
    "    R_square = 1 - (residuals.transpose()@residuals)/(T*np.var(Y))\n",
    "    adj_R_square = 1-(1-R_square)*(T-1)/(T-N[1])\n",
    "    F_stat = (beta_hat.transpose()@np.linalg.inv(varcov_beta_hat)@beta_hat/N[1])/(residuals.transpose()@residuals/(T-N[1]))\n",
    "    p_val_F = 1 - stats.f.cdf(F_stat,N[1]-1,T-N[1])\n",
    "    return beta_hat, Y_HAT,Y,t_stat,p_val_t,F_stat,p_val_F,R_square,adj_R_square"
   ]
  },
  {
   "cell_type": "code",
   "execution_count": 105,
   "metadata": {},
   "outputs": [
    {
     "data": {
      "text/plain": [
       "[<matplotlib.lines.Line2D at 0x1f4eb2b6710>]"
      ]
     },
     "execution_count": 105,
     "metadata": {},
     "output_type": "execute_result"
    },
    {
     "data": {
      "image/png": "[encoded data removed]",
      "text/plain": [
       "<Figure size 432x288 with 1 Axes>"
      ]
     },
     "metadata": {
      "needs_background": "light"
     },
     "output_type": "display_data"
    }
   ],
   "source": [
    "beta_hat,Y_HAT,Y,t_stat,p_val_t,F_stat,p_val_F,R_square,adj_R_square=FAMA(Y)\n",
    "plt.plot(Y)\n",
    "plt.plot(Y_HAT)"
   ]
  },
  {
   "cell_type": "code",
   "execution_count": 106,
   "metadata": {},
   "outputs": [],
   "source": [
    "RMSE_FAMA=np.sqrt(np.mean((Y - Y_HAT)**2))"
   ]
  },
  {
   "cell_type": "code",
   "execution_count": 107,
   "metadata": {},
   "outputs": [
    {
     "data": {
      "text/plain": [
       "4.847243709785008"
      ]
     },
     "execution_count": 107,
     "metadata": {},
     "output_type": "execute_result"
    }
   ],
   "source": [
    "RMSE_FAMA"
   ]
  },
  {
   "cell_type": "markdown",
   "metadata": {},
   "source": [
    "**MACD**"
   ]
  },
  {
   "cell_type": "code",
   "execution_count": 108,
   "metadata": {},
   "outputs": [],
   "source": [
    "def MACD(Y):\n",
    "    exp1 = df.Open_Close.ewm(span=12, adjust=False).mean()\n",
    "    exp2 = df.Open_Close.ewm(span=26, adjust=False).mean()\n",
    "    X=exp2-exp1\n",
    "    T = Y.shape[0]\n",
    "    X = np.column_stack([np.ones((T,1)),X])\n",
    "    N = X.shape\n",
    "    invXX = np.linalg.inv(X.transpose()@X)\n",
    "    beta_hat = invXX@X.transpose()@Y\n",
    "    Y_HAT = X@beta_hat\n",
    "    residuals = Y -Y_HAT\n",
    "    variance = (1/T)*residuals.transpose()@residuals\n",
    "    std = np.sqrt(variance)\n",
    "    varcov_beta_hat = (variance)*invXX\n",
    "    std_beta_hat = np.sqrt(T*np.diag(varcov_beta_hat))\n",
    "    t_stat=(beta_hat.transpose()-0)/std_beta_hat\n",
    "    p_val_t= 1-stats.norm.cdf(t_stat)\n",
    "    print(p_val_t)\n",
    "    MSE = (sum((Y-Y_HAT)**2))/(len(X)-len(X[0]))\n",
    "    var_b = MSE*(np.linalg.inv(np.dot(X.T,X)).diagonal())\n",
    "    sd_b = np.sqrt(var_b)\n",
    "    ts_b = beta_hat/ sd_b\n",
    "    p_values =[2*(1-stats.t.cdf(np.abs(i),(len(X)-1))) for i in ts_b]\n",
    "    R_square = 1 - (residuals.transpose()@residuals)/(T*np.var(Y))\n",
    "    adj_R_square = 1-(1-R_square)*(T-1)/(T-N[1])\n",
    "    F_stat = (beta_hat.transpose()@np.linalg.inv(varcov_beta_hat)@beta_hat/N[1])/(residuals.transpose()@residuals/(T-N[1]))\n",
    "    p_val_F = 1 - stats.f.cdf(F_stat,N[1]-1,T-N[1])\n",
    "    return beta_hat, Y_HAT,Y,t_stat,p_val_t,F_stat,p_val_F,R_square,adj_R_square"
   ]
  },
  {
   "cell_type": "code",
   "execution_count": 109,
   "metadata": {},
   "outputs": [
    {
     "name": "stdout",
     "output_type": "stream",
     "text": [
      "[[0.00944183 0.79286163]]\n"
     ]
    },
    {
     "data": {
      "text/plain": [
       "[<matplotlib.lines.Line2D at 0x1f4eb1b1dd8>]"
      ]
     },
     "execution_count": 109,
     "metadata": {},
     "output_type": "execute_result"
    },
    {
     "data": {
      "image/png": "[encoded data removed]",
      "text/plain": [
       "<Figure size 432x288 with 1 Axes>"
      ]
     },
     "metadata": {
      "needs_background": "light"
     },
     "output_type": "display_data"
    }
   ],
   "source": [
    "beta_hat, Y_HAT,Y,t_stat,p_val_t,F_stat,p_val_F,R_square,adj_R_square=MACD(Y)\n",
    "plt.plot(Y)\n",
    "plt.plot(Y_HAT)"
   ]
  },
  {
   "cell_type": "code",
   "execution_count": 110,
   "metadata": {},
   "outputs": [],
   "source": [
    "RMSE_MACD=np.sqrt(np.mean((Y - Y_HAT)**2))"
   ]
  },
  {
   "cell_type": "code",
   "execution_count": 111,
   "metadata": {},
   "outputs": [
    {
     "data": {
      "text/plain": [
       "288.1480398063374"
      ]
     },
     "execution_count": 111,
     "metadata": {},
     "output_type": "execute_result"
    }
   ],
   "source": [
    "RMSE_MACD"
   ]
  },
  {
   "cell_type": "code",
   "execution_count": null,
   "metadata": {},
   "outputs": [],
   "source": []
  }
 ],
 "metadata": {
  "kernelspec": {
   "display_name": "Python 3",
   "language": "python",
   "name": "python3"
  },
  "language_info": {
   "codemirror_mode": {
    "name": "ipython",
    "version": 3
   },
   "file_extension": ".py",
   "mimetype": "text/x-python",
   "name": "python",
   "nbconvert_exporter": "python",
   "pygments_lexer": "ipython3",
   "version": "3.7.0"
  }
 },
 "nbformat": 4,
 "nbformat_minor": 2
}
